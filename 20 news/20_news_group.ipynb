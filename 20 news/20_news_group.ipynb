{
 "cells": [
  {
   "cell_type": "code",
   "execution_count": 146,
   "metadata": {
    "collapsed": true
   },
   "outputs": [],
   "source": [
    "## import data\n",
    "import scipy\n",
    "test = scipy.io.loadmat('ng207528x8165itst.mat')\n",
    "test_data = test['Dtst'].tolist()[0][0][1]\n",
    "test_label_matrix = test['Dtst'].tolist()[0][0][2]\n",
    "train = scipy.io.loadmat('ng2011293x8165itrn.mat')\n",
    "train_data = train['Dtrn'].tolist()[0][0][1]\n",
    "train_label_matrix = train['Dtrn'].tolist()[0][0][2]"
   ]
  },
  {
   "cell_type": "code",
   "execution_count": 235,
   "metadata": {},
   "outputs": [],
   "source": [
    "## transform label matrix to vectors\n",
    "import numpy as np\n",
    "sample = {}\n",
    "subset = []\n",
    "label = []\n",
    "for i in range(20):\n",
    "    sample_i = np.random.choice(np.where(train_label_matrix.todense()[:,i]!=0)[0],100, replace = False)\n",
    "    sample[str(i)] = sample_i\n",
    "    subset =np.hstack((subset,sample_i))\n",
    "    label = np.hstack((label, np.repeat(i, 100)))\n",
    "train_select = train_data[subset,]"
   ]
  },
  {
   "cell_type": "code",
   "execution_count": 236,
   "metadata": {},
   "outputs": [],
   "source": [
    "# from sklearn.feature_extraction.text import TfidfVectorizer\n",
    "# vectorizer = TfidfVectorizer()\n",
    "# vectors = vectorizer.fit_transform(train_select)"
   ]
  },
  {
   "cell_type": "code",
   "execution_count": 237,
   "metadata": {},
   "outputs": [],
   "source": [
    "from sklearn.decomposition import LatentDirichletAllocation as LDA\n",
    "solution = LDA(n_components=20, learning_method='batch', max_iter=60).fit_transform(train_select)"
   ]
  },
  {
   "cell_type": "code",
   "execution_count": 205,
   "metadata": {
    "collapsed": true
   },
   "outputs": [],
   "source": [
    "from sklearn import decomposition\n",
    "pca = decomposition.PCA(n_components=5)\n",
    "pca.fit(solution)\n",
    "X = pca.transform(solution)"
   ]
  },
  {
   "cell_type": "code",
   "execution_count": 238,
   "metadata": {},
   "outputs": [
    {
     "data": {
      "text/plain": [
       "0.45400000000000001"
      ]
     },
     "execution_count": 238,
     "metadata": {},
     "output_type": "execute_result"
    }
   ],
   "source": [
    "from sklearn import svm\n",
    "clf = svm.SVC(kernel='linear')\n",
    "clf.fit(solution, label)\n",
    "clf.predict(solution)\n",
    "sum(clf.predict(solution)==label)/2000."
   ]
  },
  {
   "cell_type": "code",
   "execution_count": 232,
   "metadata": {},
   "outputs": [
    {
     "data": {
      "text/plain": [
       "(2000, 20)"
      ]
     },
     "execution_count": 232,
     "metadata": {},
     "output_type": "execute_result"
    }
   ],
   "source": [
    "from scipy.sparse import csc_matrix\n",
    "A = csc_matrix(train_select, dtype=float)\n",
    "[u, s, vt] = scipy.sparse.linalg.svds(A, 20)\n",
    "u.shape"
   ]
  },
  {
   "cell_type": "code",
   "execution_count": 233,
   "metadata": {},
   "outputs": [
    {
     "data": {
      "text/plain": [
       "0.53649999999999998"
      ]
     },
     "execution_count": 233,
     "metadata": {},
     "output_type": "execute_result"
    }
   ],
   "source": [
    "X = np.dot(u, np.diag(s))\n",
    "clf = svm.SVC(kernel='linear')\n",
    "clf.fit(X, label)\n",
    "sum(clf.predict(X)==label)/2000."
   ]
  },
  {
   "cell_type": "code",
   "execution_count": 259,
   "metadata": {},
   "outputs": [],
   "source": [
    "# random sample SVM. Data matrix: X, n * p, n = 2000, 100 sample in each catogory\n",
    "# n: sample size in each category; k: number of class\n",
    "def random_sample(n, k, m):\n",
    "    sample = []\n",
    "    for i in range(k):\n",
    "        sample_i = np.random.choice(range(i*n, (i+1)*n), size = m, replace=False)\n",
    "        sample = np.hstack((sample, sample_i))\n",
    "    sample = np.array(sample, dtype=int)\n",
    "    return(sample)"
   ]
  },
  {
   "cell_type": "code",
   "execution_count": 266,
   "metadata": {},
   "outputs": [
    {
     "data": {
      "text/plain": [
       "0.28482499999999999"
      ]
     },
     "execution_count": 266,
     "metadata": {},
     "output_type": "execute_result"
    }
   ],
   "source": [
    "S = 0\n",
    "for i in range(20):\n",
    "    labeled_data = random_sample(100, 20, 5)\n",
    "    X = np.dot(u, np.diag(s))\n",
    "    clf = svm.SVC(`kernel='linear')\n",
    "    clf.fit(X[labeled_data,], label[labeled_data])\n",
    "    S += sum(clf.predict(X)==label)/2000.\n",
    "S/20."
   ]
  },
  {
   "cell_type": "code",
   "execution_count": 276,
   "metadata": {},
   "outputs": [
    {
     "name": "stdout",
     "output_type": "stream",
     "text": [
      "[20, 5, 0.2067]\n",
      "[20, 10, 0.3478]\n",
      "[20, 20, 0.446]\n",
      "[20, 25, 0.4697]\n",
      "[20, 30, 0.4814]\n",
      "[20, 40, 0.5102]\n",
      "[20, 50, 0.5273]\n"
     ]
    }
   ],
   "source": [
    "## SVD + SVM\n",
    "label_num = 20\n",
    "from scipy.sparse import csc_matrix\n",
    "from sklearn import svm\n",
    "A = csc_matrix(train_select, dtype=float)\n",
    "TOPIC_NUM = [5,10,20,25,30,40,50]\n",
    "for topic_num in TOPIC_NUM:\n",
    "    [u, s, vt] = scipy.sparse.linalg.svds(A, topic_num)\n",
    "    X = np.dot(u, np.diag(s))\n",
    "    S = 0\n",
    "    for i in range(20):\n",
    "        labeled_data = random_sample(100, 20, label_num)\n",
    "        clf = svm.SVC(kernel='linear')\n",
    "        clf.fit(X[labeled_data,], label[labeled_data])\n",
    "        S += sum(clf.predict(X)==label)/2000.\n",
    "    print([label_num, topic_num, round(S/20.,4)])"
   ]
  },
  {
   "cell_type": "code",
   "execution_count": 282,
   "metadata": {},
   "outputs": [
    {
     "name": "stdout",
     "output_type": "stream",
     "text": [
      "[15, 5, 0.4838]\n",
      "[15, 10, 0.4831]\n",
      "[15, 20, 0.4853]\n",
      "[15, 25, 0.4887]\n",
      "[15, 30, 0.4855]\n",
      "[15, 40, 0.4794]\n",
      "[15, 50, 0.4863]\n"
     ]
    }
   ],
   "source": [
    "## LDA + SVM\n",
    "label_num = 15\n",
    "from scipy.sparse import csc_matrix\n",
    "from sklearn import svm\n",
    "from sklearn.decomposition import LatentDirichletAllocation as LDA\n",
    "TOPIC_NUM = [5,10,20,25,30,40,50]\n",
    "for topic_num in TOPIC_NUM:\n",
    "    solution = LDA(n_components=topic_num, learning_method='batch', max_iter=60).fit_transform(train_select)\n",
    "    S = 0\n",
    "    for i in range(20):\n",
    "        labeled_data = random_sample(100, 20, label_num)\n",
    "        clf = svm.SVC(kernel='linear')\n",
    "        clf.fit(X[labeled_data,], label[labeled_data])\n",
    "        accuracy = sum(clf.predict(X)==label)/2000.\n",
    "        S += accuracy\n",
    "    print([label_num, topic_num, round(S/20.,4)])"
   ]
  },
  {
   "cell_type": "markdown",
   "metadata": {},
   "source": [
    "** SVD + SVM, TRAIN_ACCURACY:\n",
    "\n",
    "[LABEL_NUM, TOPIC_NUM, ACCURACY]\n",
    "[5, 5, 0.1555]\n",
    "[5, 10, 0.2539]\n",
    "[5, 20, 0.31]\n",
    "[5, 25, 0.3207]\n",
    "[5, 30, 0.3224]\n",
    "[5, 40, 0.3403]\n",
    "[5, 50, 0.3358]\n",
    "\n",
    "[10, 5, 0.1833]\n",
    "[10, 10, 0.3021]\n",
    "[10, 20, 0.3786]\n",
    "[10, 25, 0.4066]\n",
    "[10, 30, 0.4006]\n",
    "[10, 40, 0.4239]\n",
    "[10, 50, 0.4244]\n",
    "\n",
    "[15, 5, 0.2008]\n",
    "[15, 10, 0.3288]\n",
    "[15, 20, 0.4199]\n",
    "[15, 25, 0.4421]\n",
    "[15, 30, 0.4565]\n",
    "[15, 40, 0.4725]\n",
    "[15, 50, 0.4878]\n",
    "\n",
    "[20, 5, 0.2067]\n",
    "[20, 10, 0.3478]\n",
    "[20, 20, 0.446]\n",
    "[20, 25, 0.4697]\n",
    "[20, 30, 0.4814]\n",
    "[20, 40, 0.5102]\n",
    "[20, 50, 0.5273]\n",
    "\n",
    "** LDA + SVM, TRAIN_ACCURACY:\n",
    "\n",
    "[LABEL_NUM, TOPIC_NUM, ACCURACY]\n",
    "[5, 5, 0.3335]\n",
    "[5, 10, 0.3396]\n",
    "[5, 20, 0.338]\n",
    "[5, 25, 0.3389]\n",
    "[5, 30, 0.3426]\n",
    "[5, 40, 0.3407]\n",
    "[5, 50, 0.3354]\n",
    "\n",
    "[10, 5, 0.4262]\n",
    "[10, 10, 0.418]\n",
    "[10, 20, 0.427]\n",
    "[10, 25, 0.4296]\n",
    "[10, 30, 0.4291]\n",
    "[10, 40, 0.4324]\n",
    "[10, 50, 0.4232]\n",
    "\n",
    "[15, 5, 0.4838]\n",
    "[15, 10, 0.4831]\n",
    "[15, 20, 0.4853]\n",
    "[15, 25, 0.4887]\n",
    "[15, 30, 0.4855]\n",
    "[15, 40, 0.4794]\n",
    "[15, 50, 0.4863]\n",
    "\n",
    "[20, 5, 0.5263]\n",
    "[20, 10, 0.5293]\n",
    "[20, 20, 0.5307]\n",
    "[20, 25, 0.5292]\n",
    "[20, 30, 0.5274]\n",
    "[20, 40, 0.5282]\n",
    "[20, 50, 0.5201]"
   ]
  }
 ],
 "metadata": {
  "kernelspec": {
   "display_name": "Python 2",
   "language": "python",
   "name": "python2"
  },
  "language_info": {
   "codemirror_mode": {
    "name": "ipython",
    "version": 2
   },
   "file_extension": ".py",
   "mimetype": "text/x-python",
   "name": "python",
   "nbconvert_exporter": "python",
   "pygments_lexer": "ipython2",
   "version": "2.7.14"
  }
 },
 "nbformat": 4,
 "nbformat_minor": 2
}
